{
  "nbformat": 4,
  "nbformat_minor": 0,
  "metadata": {
    "colab": {
      "name": "Untitled4.ipynb",
      "provenance": [],
      "toc_visible": true,
      "mount_file_id": "1a8Bxy4w4GRRLtV5VranVHZEmj8jVAll4",
      "authorship_tag": "ABX9TyO2GSCysVUfPmwPnEupr1m6",
      "include_colab_link": true
    },
    "kernelspec": {
      "name": "python3",
      "display_name": "Python 3"
    },
    "language_info": {
      "name": "python"
    }
  },
  "cells": [
    {
      "cell_type": "markdown",
      "metadata": {
        "id": "view-in-github",
        "colab_type": "text"
      },
      "source": [
        "<a href=\"https://colab.research.google.com/github/Dhia99/AskBack/blob/main/extractfacture.ipynb\" target=\"_parent\"><img src=\"https://colab.research.google.com/assets/colab-badge.svg\" alt=\"Open In Colab\"/></a>"
      ]
    },
    {
      "cell_type": "code",
      "execution_count": null,
      "metadata": {
        "id": "hlqM_Lge_ikb"
      },
      "outputs": [],
      "source": [
        ""
      ]
    },
    {
      "cell_type": "code",
      "source": [
        "from google.colab import drive\n",
        "drive.mount('/content/drive')"
      ],
      "metadata": {
        "colab": {
          "base_uri": "https://localhost:8080/"
        },
        "id": "9HAT8uAU_5V6",
        "outputId": "7822c556-aff6-42b3-feb3-4cf889a7e74d"
      },
      "execution_count": 1,
      "outputs": [
        {
          "output_type": "stream",
          "name": "stdout",
          "text": [
            "Drive already mounted at /content/drive; to attempt to forcibly remount, call drive.mount(\"/content/drive\", force_remount=True).\n"
          ]
        }
      ]
    },
    {
      "cell_type": "code",
      "source": [
        "pip install git+git://github.com/jaidedai/easyocr.git"
      ],
      "metadata": {
        "colab": {
          "base_uri": "https://localhost:8080/"
        },
        "id": "bRSFJdbKAAXz",
        "outputId": "be77c142-34f4-4961-db97-e90f70fc2116"
      },
      "execution_count": 2,
      "outputs": [
        {
          "output_type": "stream",
          "name": "stdout",
          "text": [
            "Collecting git+git://github.com/jaidedai/easyocr.git\n",
            "  Cloning git://github.com/jaidedai/easyocr.git to /tmp/pip-req-build-rz7330wr\n",
            "  Running command git clone -q git://github.com/jaidedai/easyocr.git /tmp/pip-req-build-rz7330wr\n",
            "Requirement already satisfied: torch in /usr/local/lib/python3.7/dist-packages (from easyocr==1.4.1) (1.10.0+cu111)\n",
            "Requirement already satisfied: torchvision>=0.5 in /usr/local/lib/python3.7/dist-packages (from easyocr==1.4.1) (0.11.1+cu111)\n",
            "Collecting opencv-python-headless<=4.5.4.60\n",
            "  Downloading opencv_python_headless-4.5.4.60-cp37-cp37m-manylinux_2_17_x86_64.manylinux2014_x86_64.whl (47.6 MB)\n",
            "\u001b[K     |████████████████████████████████| 47.6 MB 2.2 MB/s \n",
            "\u001b[?25hRequirement already satisfied: scipy in /usr/local/lib/python3.7/dist-packages (from easyocr==1.4.1) (1.4.1)\n",
            "Requirement already satisfied: numpy in /usr/local/lib/python3.7/dist-packages (from easyocr==1.4.1) (1.19.5)\n",
            "Requirement already satisfied: Pillow in /usr/local/lib/python3.7/dist-packages (from easyocr==1.4.1) (7.1.2)\n",
            "Requirement already satisfied: scikit-image in /usr/local/lib/python3.7/dist-packages (from easyocr==1.4.1) (0.18.3)\n",
            "Collecting python-bidi\n",
            "  Downloading python_bidi-0.4.2-py2.py3-none-any.whl (30 kB)\n",
            "Requirement already satisfied: PyYAML in /usr/local/lib/python3.7/dist-packages (from easyocr==1.4.1) (3.13)\n",
            "Requirement already satisfied: typing-extensions in /usr/local/lib/python3.7/dist-packages (from torch->easyocr==1.4.1) (3.10.0.2)\n",
            "Requirement already satisfied: six in /usr/local/lib/python3.7/dist-packages (from python-bidi->easyocr==1.4.1) (1.15.0)\n",
            "Requirement already satisfied: imageio>=2.3.0 in /usr/local/lib/python3.7/dist-packages (from scikit-image->easyocr==1.4.1) (2.4.1)\n",
            "Requirement already satisfied: matplotlib!=3.0.0,>=2.0.0 in /usr/local/lib/python3.7/dist-packages (from scikit-image->easyocr==1.4.1) (3.2.2)\n",
            "Requirement already satisfied: networkx>=2.0 in /usr/local/lib/python3.7/dist-packages (from scikit-image->easyocr==1.4.1) (2.6.3)\n",
            "Requirement already satisfied: PyWavelets>=1.1.1 in /usr/local/lib/python3.7/dist-packages (from scikit-image->easyocr==1.4.1) (1.2.0)\n",
            "Requirement already satisfied: tifffile>=2019.7.26 in /usr/local/lib/python3.7/dist-packages (from scikit-image->easyocr==1.4.1) (2021.11.2)\n",
            "Requirement already satisfied: python-dateutil>=2.1 in /usr/local/lib/python3.7/dist-packages (from matplotlib!=3.0.0,>=2.0.0->scikit-image->easyocr==1.4.1) (2.8.2)\n",
            "Requirement already satisfied: cycler>=0.10 in /usr/local/lib/python3.7/dist-packages (from matplotlib!=3.0.0,>=2.0.0->scikit-image->easyocr==1.4.1) (0.11.0)\n",
            "Requirement already satisfied: kiwisolver>=1.0.1 in /usr/local/lib/python3.7/dist-packages (from matplotlib!=3.0.0,>=2.0.0->scikit-image->easyocr==1.4.1) (1.3.2)\n",
            "Requirement already satisfied: pyparsing!=2.0.4,!=2.1.2,!=2.1.6,>=2.0.1 in /usr/local/lib/python3.7/dist-packages (from matplotlib!=3.0.0,>=2.0.0->scikit-image->easyocr==1.4.1) (3.0.7)\n",
            "Building wheels for collected packages: easyocr\n",
            "  Building wheel for easyocr (setup.py) ... \u001b[?25l\u001b[?25hdone\n",
            "  Created wheel for easyocr: filename=easyocr-1.4.1-py3-none-any.whl size=63744053 sha256=96426bc5adb371c0509f291a60f9c594d56534847ae306081fc21391da6718d3\n",
            "  Stored in directory: /tmp/pip-ephem-wheel-cache-dqxlne9d/wheels/e4/17/25/2d203d4a2ecdb8b4d05e4cef1fed51634287906dfafee45701\n",
            "Successfully built easyocr\n",
            "Installing collected packages: python-bidi, opencv-python-headless, easyocr\n",
            "Successfully installed easyocr-1.4.1 opencv-python-headless-4.5.4.60 python-bidi-0.4.2\n"
          ]
        }
      ]
    },
    {
      "cell_type": "code",
      "source": [
        "!pip install datefinder"
      ],
      "metadata": {
        "colab": {
          "base_uri": "https://localhost:8080/"
        },
        "id": "y2NBrptXAFkK",
        "outputId": "698e09c1-5302-47c9-da0d-97bee385b1a5"
      },
      "execution_count": 3,
      "outputs": [
        {
          "output_type": "stream",
          "name": "stdout",
          "text": [
            "Collecting datefinder\n",
            "  Downloading datefinder-0.7.1-py2.py3-none-any.whl (10 kB)\n",
            "Requirement already satisfied: python-dateutil>=2.4.2 in /usr/local/lib/python3.7/dist-packages (from datefinder) (2.8.2)\n",
            "Requirement already satisfied: regex>=2017.02.08 in /usr/local/lib/python3.7/dist-packages (from datefinder) (2019.12.20)\n",
            "Requirement already satisfied: pytz in /usr/local/lib/python3.7/dist-packages (from datefinder) (2018.9)\n",
            "Requirement already satisfied: six>=1.5 in /usr/local/lib/python3.7/dist-packages (from python-dateutil>=2.4.2->datefinder) (1.15.0)\n",
            "Installing collected packages: datefinder\n",
            "Successfully installed datefinder-0.7.1\n"
          ]
        }
      ]
    },
    {
      "cell_type": "code",
      "source": [
        "import easyocr\n",
        "reader = easyocr.Reader(['fr']) "
      ],
      "metadata": {
        "colab": {
          "base_uri": "https://localhost:8080/"
        },
        "id": "UZ0NmNRtAJGX",
        "outputId": "6c509d80-1e12-4647-ca2f-18717ac0a81c"
      },
      "execution_count": 4,
      "outputs": [
        {
          "output_type": "stream",
          "name": "stderr",
          "text": [
            "CUDA not available - defaulting to CPU. Note: This module is much faster with a GPU.\n",
            "Downloading detection model, please wait. This may take several minutes depending upon your network connection.\n"
          ]
        },
        {
          "output_type": "stream",
          "name": "stdout",
          "text": [
            "Progress: |██████████████████████████████████████████████████| 100.0% Complete"
          ]
        },
        {
          "output_type": "stream",
          "name": "stderr",
          "text": [
            "Downloading recognition model, please wait. This may take several minutes depending upon your network connection.\n"
          ]
        },
        {
          "output_type": "stream",
          "name": "stdout",
          "text": [
            "Progress: |██████████████████████████████████████████████████| 100.0% Complete"
          ]
        }
      ]
    },
    {
      "cell_type": "code",
      "source": [
        "result = reader.readtext(\"/content/drive/MyDrive/Colab Notebooks/Dhia1/factures/factures/003.jpg\")"
      ],
      "metadata": {
        "id": "wLmJ1OFpAKR_"
      },
      "execution_count": 5,
      "outputs": []
    },
    {
      "cell_type": "code",
      "source": [
        "data_invoice=[]\n",
        "for x in result:\n",
        "  data_invoice.append(x[-2].strip().replace('[','').replace(']',''))\n",
        "  # print(x[-2])"
      ],
      "metadata": {
        "id": "iIR-9VbRAPBA"
      },
      "execution_count": 6,
      "outputs": []
    },
    {
      "cell_type": "code",
      "source": [
        "start_index= data_invoice.index(\"TVA\")\n",
        "end_index = data_invoice.index(\"Total H. Taxes TND\")\n",
        "print(start_index,end_index)\n",
        "\n",
        "sub_data_invoice =[]\n",
        "for x in data_invoice[start_index+2:end_index]:\n",
        "  n = x.split(\"|\")\n",
        "  for y in n:\n",
        "    sub_data_invoice.append(y.strip())\n",
        "\n",
        "\n",
        "\n",
        "\n",
        "print(sub_data_invoice)"
      ],
      "metadata": {
        "colab": {
          "base_uri": "https://localhost:8080/"
        },
        "id": "xoKB9vKwAU_S",
        "outputId": "3df779bd-2385-45f1-a49d-f4678715f976"
      },
      "execution_count": 7,
      "outputs": [
        {
          "output_type": "stream",
          "name": "stdout",
          "text": [
            "31 59\n",
            "['2S529EA', 'HP 15-dw2011nk i3-1005G1', '4GB ITB 15.6 HD W1O BK', '099,000', '099,000', '7 %', '2S53OEA', 'HP 15-dw2012nk i3-1005G1', '4GB ITB 15.6 HD W1O GY', '099,000', '099,000', '7 %', 'SN:CND0256739', '0 %', 'SN:CNDO132R8D', '0 %', 'T9BSOAA', 'Sacoche HP Value Topload (15.6\")', '36,000', '36,000', '19 %', 'KOB38AA', 'HP SACOCHE Mallette Value 15,6\"', '36,000', '36,000', '19 %']\n"
          ]
        }
      ]
    },
    {
      "cell_type": "code",
      "source": [
        "list_sub_item=[]\n",
        "last_index =0\n",
        "for x in range(len(sub_data_invoice)):\n",
        "  if '%' in sub_data_invoice[x]:\n",
        "    list_sub_item.append({\"a\":last_index,\"b\":x+1})\n",
        "    last_index = x+1 \n",
        "    print(sub_data_invoice[x])\n",
        "  \n",
        "\n",
        "print(list_sub_item)"
      ],
      "metadata": {
        "colab": {
          "base_uri": "https://localhost:8080/"
        },
        "id": "fEdTYFHIAak-",
        "outputId": "63d9a1f6-8214-4041-9f4a-8a4cf1baaa32"
      },
      "execution_count": 8,
      "outputs": [
        {
          "output_type": "stream",
          "name": "stdout",
          "text": [
            "7 %\n",
            "7 %\n",
            "0 %\n",
            "0 %\n",
            "19 %\n",
            "19 %\n",
            "[{'a': 0, 'b': 6}, {'a': 6, 'b': 12}, {'a': 12, 'b': 14}, {'a': 14, 'b': 16}, {'a': 16, 'b': 21}, {'a': 21, 'b': 26}]\n"
          ]
        }
      ]
    },
    {
      "cell_type": "code",
      "source": [
        "all_result_data=[]\n",
        "\n",
        "def clean(x):\n",
        "  v = x.replace(\",\",'.').replace(\"/\",\"\").replace(\" \",\"\").replace('%','').replace(']','')\n",
        "  if len(v)==0:\n",
        "    v=\"0\"\n",
        "  return v\n",
        "\n",
        "for x in list_sub_item:\n",
        "  extracted_data={\"ref\":None,\"name\":None,\"qty\":None,\"unit_price\":None,\"amount\":None,\"tva\":None}\n",
        "  r=sub_data_invoice[x[\"a\"]:x[\"b\"]]\n",
        "  if len(r)==5:\n",
        "    extracted_data[\"ref\"]=r[0]\n",
        "    extracted_data[\"name\"]=r[1]\n",
        "    extracted_data[\"unit_price\"]=float(clean(r[2]))\n",
        "    extracted_data[\"amount\"]=float(clean(r[3]))\n",
        "    extracted_data[\"tva\"]=float(clean(r[4]))\n",
        "  elif len(r)==2:\n",
        "    extracted_data[\"name\"]=r[0]\n",
        "    extracted_data[\"tva\"]=float(clean(r[1]))\n",
        "  elif len(r)==3:\n",
        "    extracted_data[\"name\"]=r[0]+\" \"+r[1]\n",
        "    extracted_data[\"tva\"]=float(clean(r[2]))   \n",
        "  elif len(r)>5:\n",
        "    extracted_data[\"ref\"]=r[0]\n",
        "    extracted_data[\"name\"]=r[1]+\" \"+r[2]\n",
        "    extracted_data[\"unit_price\"]=float(clean(r[-3]))\n",
        "    extracted_data[\"amount\"]=float(clean(r[-2]))\n",
        "    extracted_data[\"tva\"]=float(clean(r[-1]))\n",
        "\n",
        "  if extracted_data['unit_price'] and extracted_data['amount']:\n",
        "    extracted_data['qty']= int(extracted_data['unit_price']/extracted_data['amount'])\n",
        "\n",
        "  all_result_data.append(extracted_data)\n",
        "\n",
        "  # print(r)"
      ],
      "metadata": {
        "id": "U6FqYJryAbw3"
      },
      "execution_count": 9,
      "outputs": []
    },
    {
      "cell_type": "code",
      "source": [
        "all_result_data  "
      ],
      "metadata": {
        "colab": {
          "base_uri": "https://localhost:8080/"
        },
        "id": "ixRexCz7AibQ",
        "outputId": "ac8f6ddf-6596-4645-b4ba-a98900654f68"
      },
      "execution_count": 10,
      "outputs": [
        {
          "output_type": "execute_result",
          "data": {
            "text/plain": [
              "[{'amount': 99.0,\n",
              "  'name': 'HP 15-dw2011nk i3-1005G1 4GB ITB 15.6 HD W1O BK',\n",
              "  'qty': 1,\n",
              "  'ref': '2S529EA',\n",
              "  'tva': 7.0,\n",
              "  'unit_price': 99.0},\n",
              " {'amount': 99.0,\n",
              "  'name': 'HP 15-dw2012nk i3-1005G1 4GB ITB 15.6 HD W1O GY',\n",
              "  'qty': 1,\n",
              "  'ref': '2S53OEA',\n",
              "  'tva': 7.0,\n",
              "  'unit_price': 99.0},\n",
              " {'amount': None,\n",
              "  'name': 'SN:CND0256739',\n",
              "  'qty': None,\n",
              "  'ref': None,\n",
              "  'tva': 0.0,\n",
              "  'unit_price': None},\n",
              " {'amount': None,\n",
              "  'name': 'SN:CNDO132R8D',\n",
              "  'qty': None,\n",
              "  'ref': None,\n",
              "  'tva': 0.0,\n",
              "  'unit_price': None},\n",
              " {'amount': 36.0,\n",
              "  'name': 'Sacoche HP Value Topload (15.6\")',\n",
              "  'qty': 1,\n",
              "  'ref': 'T9BSOAA',\n",
              "  'tva': 19.0,\n",
              "  'unit_price': 36.0},\n",
              " {'amount': 36.0,\n",
              "  'name': 'HP SACOCHE Mallette Value 15,6\"',\n",
              "  'qty': 1,\n",
              "  'ref': 'KOB38AA',\n",
              "  'tva': 19.0,\n",
              "  'unit_price': 36.0}]"
            ]
          },
          "metadata": {},
          "execution_count": 10
        }
      ]
    },
    {
      "cell_type": "code",
      "source": [
        "data_invoice"
      ],
      "metadata": {
        "colab": {
          "base_uri": "https://localhost:8080/"
        },
        "id": "AM1aUFRLAnOz",
        "outputId": "2a1a0310-166d-4dee-a126-e155d40cb5bd"
      },
      "execution_count": 11,
      "outputs": [
        {
          "output_type": "execute_result",
          "data": {
            "text/plain": [
              "['Rue Tarek Ibn Zied',\n",
              " '4000 SOUSSE',\n",
              " 'Jgozf',\n",
              " \"N' téléphone\",\n",
              " '73 202 788',\n",
              " \"N' télécopie\",\n",
              " '73 202 789',\n",
              " 'SARL Au capital social de 1.270.000 DT',\n",
              " 'FACTUREI BON DE LIVRAISON',\n",
              " \"N'\",\n",
              " 'TPV-TROC-F20/2066',\n",
              " 'Nom Client: STE ENNOVATUS GAMING',\n",
              " \"N' doc. Ext.\",\n",
              " 'Adresse:',\n",
              " 'AV ARAF RES BOULVARD SAHLOUL 4054',\n",
              " 'Commande Clien',\n",
              " 'Mat. Fiscal: 1675123S/AMIOOO',\n",
              " 'Date',\n",
              " '2. novembre 2020',\n",
              " 'Code Client',\n",
              " 'CSC26660',\n",
              " \"N' BC:\",\n",
              " 'TPV-TROC-C20/3185',\n",
              " 'RC',\n",
              " 'Paiement',\n",
              " 'Réf.',\n",
              " 'Désignation',\n",
              " 'Qté',\n",
              " 'Prix Unit.',\n",
              " 'Rem.',\n",
              " 'Montant',\n",
              " 'TVA',\n",
              " 'TPV-TROC-E2072066-',\n",
              " '2S529EA',\n",
              " 'HP 15-dw2011nk i3-1005G1',\n",
              " '4GB ITB 15.6 HD W1O BK',\n",
              " '099,000',\n",
              " '099,000',\n",
              " '7 %',\n",
              " '2S53OEA',\n",
              " 'HP 15-dw2012nk i3-1005G1',\n",
              " '4GB ITB 15.6 HD W1O GY',\n",
              " '099,000',\n",
              " '099,000',\n",
              " '7 %',\n",
              " 'SN:CND0256739',\n",
              " '0 %',\n",
              " 'SN:CNDO132R8D',\n",
              " '0 %',\n",
              " 'T9BSOAA',\n",
              " 'Sacoche HP Value Topload (15.6\")',\n",
              " '36,000',\n",
              " '36,000',\n",
              " '19 %',\n",
              " 'KOB38AA',\n",
              " 'HP SACOCHE Mallette Value 15,6\"',\n",
              " '36,000',\n",
              " '36,000',\n",
              " '19 %',\n",
              " 'Total H. Taxes TND',\n",
              " '2 114,710',\n",
              " 'La présentation de cette facture est obligatoire pour tout échange ou',\n",
              " '0,000',\n",
              " 'réparation sous garantie',\n",
              " 'Remise Facture',\n",
              " 'Total TVA',\n",
              " '155,290',\n",
              " 'La garantie couvre uniquement les défauts de fabrication Hardware.',\n",
              " \"Toute panne Software ou réinstallation système feront l'objet d'une\",\n",
              " 'Timbre Fiscal',\n",
              " '0,600',\n",
              " 'réparation facturable.',\n",
              " 'Net à Payer',\n",
              " '2 270,600',\n",
              " 'Base TVA',\n",
              " 'TVA',\n",
              " 'Montant TVA',\n",
              " '60,504',\n",
              " '19 %',\n",
              " '11,496',\n",
              " '2 054,206',\n",
              " '7 %',\n",
              " '143,794',\n",
              " 'Paiement',\n",
              " 'Date',\n",
              " 'Code devise',\n",
              " 'Montant (dev.',\n",
              " 'Montant (dev.',\n",
              " 'Désignation',\n",
              " 'échéance   (dev. règleme',\n",
              " 'règlement)',\n",
              " 'ticket)',\n",
              " 'ESPECE',\n",
              " '02/11/20',\n",
              " '2 270,600',\n",
              " '2 270,600',\n",
              " '42',\n",
              " 'Points Fidélité',\n",
              " 'Montant',\n",
              " '2 270,600',\n",
              " 'Solde antérieur',\n",
              " '0,00o',\n",
              " 'Acompte',\n",
              " '0,000',\n",
              " 'Consommation facture',\n",
              " '0,000',\n",
              " 'Montant payé',\n",
              " '2 270,600',\n",
              " 'Rajout facture',\n",
              " '0,000',\n",
              " 'Solde à nouveau',\n",
              " '0,000',\n",
              " 'Montant rendu',\n",
              " '0,000',\n",
              " 'Solde',\n",
              " '0,000',\n",
              " 'Arrêtée la présente facture à la somme de',\n",
              " 'Deux Mille Deux Cent Soixante Dix Dinars et 600 Millimes',\n",
              " \"Jaccepte par la présente de recevoir des SMS publicitaires de la part de l'enseigne dans le cadre de ses opérations promotionnelles.\",\n",
              " 'RC',\n",
              " 'B0136862004',\n",
              " 'Code T.VA',\n",
              " '887498 S A M 000',\n",
              " 'Banque',\n",
              " 'ATB Charguia',\n",
              " 'NP Compte',\n",
              " '01013054110300246686',\n",
              " 'ETAL',\n",
              " 'SCOOP',\n",
              " 'MARA',\n",
              " 'Rv',\n",
              " 'Tarek',\n",
              " 'INFO)',\n",
              " 'Zed']"
            ]
          },
          "metadata": {},
          "execution_count": 11
        }
      ]
    },
    {
      "cell_type": "code",
      "source": [
        "data_v2={\"Address\":None,\"Mat_Fiscal\":None,\"Num_Phone\":None}\n",
        "k=0\n",
        "data_v2[\"Address\"]=data_invoice[0]+\" \"+data_invoice[1]\n",
        "for x in data_invoice:\n",
        "    \n",
        "  if \"Mat. Fiscal\" in x:\n",
        "    data_v2[\"Mat_Fiscal\"]=x.replace(\"Mat. Fiscal:\",\"\").strip()\n",
        "\n",
        "  if \"téléphone\" in x:\n",
        "    data_v2[\"Num_Phone\"]=data_invoice[k+1].strip()  \n",
        "  \n",
        "  k+=1 \n",
        "\n",
        "data_v2\n"
      ],
      "metadata": {
        "colab": {
          "base_uri": "https://localhost:8080/"
        },
        "id": "ZUip0_DGAqSp",
        "outputId": "c650fa1f-23fe-4956-a64f-1c47c98e288f"
      },
      "execution_count": 12,
      "outputs": [
        {
          "output_type": "execute_result",
          "data": {
            "text/plain": [
              "{'Address': 'Rue Tarek Ibn Zied 4000 SOUSSE',\n",
              " 'Mat_Fiscal': '1675123S/AMIOOO',\n",
              " 'Num_Phone': '73 202 788'}"
            ]
          },
          "metadata": {},
          "execution_count": 12
        }
      ]
    },
    {
      "cell_type": "code",
      "source": [
        "import datefinder\n",
        "data_v4={\"Date\":None}\n",
        "k=0\n",
        "for x in data_invoice:\n",
        "  if \"Date\" in x:\n",
        "      matches = list(datefinder.find_dates(data_invoice[k+1].replace(\".\",\"\").replace(\"é\",\"e\")))\n",
        "      if len(matches)>0:\n",
        "        data_v4[\"Date\"]=matches[0]\n",
        "  k+=1 \n",
        "data_v4"
      ],
      "metadata": {
        "colab": {
          "base_uri": "https://localhost:8080/"
        },
        "id": "l3dDYJcuAs88",
        "outputId": "810c326d-3598-4575-c2f5-eb9b66c5d95e"
      },
      "execution_count": 13,
      "outputs": [
        {
          "output_type": "execute_result",
          "data": {
            "text/plain": [
              "{'Date': datetime.datetime(2022, 11, 2, 0, 0)}"
            ]
          },
          "metadata": {},
          "execution_count": 13
        }
      ]
    },
    {
      "cell_type": "code",
      "source": [
        "data_v4={\"Designation\":None,\"Date_Ech\":None,\"N_Compte\":None,\"Banque\":None}\n",
        "\n",
        "try:\n",
        " data_v4[\"Designation\"]=data_invoice[data_invoice.index(\"ticket)\")+1]\n",
        "except:\n",
        "  pass\n",
        "\n",
        "try:\n",
        " data_v4[\"Banque\"]=data_invoice[data_invoice.index(\"Banque\")+1]\n",
        "except:\n",
        "  pass\n",
        "\n",
        "try:\n",
        " data_v4[\"N_Compte\"]=data_invoice[data_invoice.index(\"N' Compte\")+1]\n",
        "except:\n",
        "  data_v4[\"N_Compte\"]=data_invoice[data_invoice.index(\"NP Compte\")+1]\n",
        "  pass\n",
        "\n",
        "try:\n",
        " data_v4[\"Date_Ech\"]=data_invoice[data_invoice.index(\"ticket)\")+2]\n",
        "except:\n",
        "  pass\n",
        "\n",
        "data_v4"
      ],
      "metadata": {
        "colab": {
          "base_uri": "https://localhost:8080/"
        },
        "id": "PjUCLy-sAzWl",
        "outputId": "4c866a5f-1ced-450e-c665-b00636ccd205"
      },
      "execution_count": 15,
      "outputs": [
        {
          "output_type": "execute_result",
          "data": {
            "text/plain": [
              "{'Banque': 'ATB Charguia',\n",
              " 'Date_Ech': '02/11/20',\n",
              " 'Designation': 'ESPECE',\n",
              " 'N_Compte': '01013054110300246686'}"
            ]
          },
          "metadata": {},
          "execution_count": 15
        }
      ]
    },
    {
      "cell_type": "code",
      "source": [
        "import datetime\n",
        "\n",
        "\n",
        "data_v3={\"Total_H_Taxes\":None,\"Timbre_Fiscal\":None,\"Total_TVA\":None,\"Net_Payed\":None,\"N\":None,\"Date_Ech\":None,\"Date\":None}\n",
        "\n",
        "try:\n",
        " data_v3[\"Total_H_Taxes\"]=float(clean(data_invoice[data_invoice.index(\"Total H. Taxes TND\")+1]))\n",
        "except:\n",
        "  pass\n",
        "\n",
        "try:  \n",
        " data_v3[\"Total_TVA\"]=float(clean(data_invoice[data_invoice.index(\"Total TVA\")+1]))\n",
        "except:\n",
        "  pass\n",
        "\n",
        "try:  \n",
        " data_v3[\"Timbre_Fiscal\"]=float(clean(data_invoice[data_invoice.index(\"Timbre Fiscal\")+1]))\n",
        "except:\n",
        "  pass\n",
        "\n",
        "try: \n",
        " data_v3[\"Net_Payed\"]=float(clean(data_invoice[data_invoice.index(\"Net à Payer\")+1]))\n",
        "except:\n",
        "  pass\n",
        "\n",
        "try:\n",
        " data_v3[\"Date_Ech\"]=data_invoice[data_invoice.index(\"ticket)\")+2].replace(\"/\",\"-\")\n",
        "except:\n",
        "  pass\n",
        "\n",
        "\n",
        "tab_v1=[]\n",
        "k=0\n",
        "for x in data_invoice:\n",
        "  if \"TPV-\" in x:\n",
        "    tab_v1.append(x)\n",
        "\n",
        "  if \"Date\" in x:\n",
        "      matches = list(datefinder.find_dates(data_invoice[k+1].replace(\".\",\"\").replace(\"é\",\"e\")))\n",
        "      if len(matches)>0:\n",
        "        data_v3[\"Date\"]=matches[0].strftime('%m-%d-%Y') \n",
        "  k+=1   \n",
        "\n",
        "data_v3[\"N\"]=tab_v1[0] \n",
        "\n",
        "\n",
        "\n",
        "\n",
        "\n",
        "data_v3"
      ],
      "metadata": {
        "colab": {
          "base_uri": "https://localhost:8080/"
        },
        "id": "y2BwZgA9A5GT",
        "outputId": "796ffcde-7d90-4ac8-a1fb-9a82f6767775"
      },
      "execution_count": 16,
      "outputs": [
        {
          "output_type": "execute_result",
          "data": {
            "text/plain": [
              "{'Date': '11-02-2022',\n",
              " 'Date_Ech': '02-11-20',\n",
              " 'N': 'TPV-TROC-F20/2066',\n",
              " 'Net_Payed': 2270.6,\n",
              " 'Timbre_Fiscal': 0.6,\n",
              " 'Total_H_Taxes': 2114.71,\n",
              " 'Total_TVA': 155.29}"
            ]
          },
          "metadata": {},
          "execution_count": 16
        }
      ]
    },
    {
      "cell_type": "code",
      "source": [
        "data_v1={\"N\":None,\"Code_Client\":None,\"N_BC\":None}\n",
        "\n",
        "client_index= data_invoice.index(\"Code Client\")\n",
        "client_index\n",
        "data_v1[\"Code_Client\"]=data_invoice[client_index+1]\n",
        "\n",
        "\n",
        "tab_v1=[]\n",
        "for x in data_invoice:\n",
        "  if \"TPV-\" in x:\n",
        "    tab_v1.append(x)\n",
        "\n",
        "data_v1[\"N\"]=tab_v1[0] \n",
        "data_v1[\"N_BC\"]=tab_v1[1]    \n",
        "\n",
        "print(data_v1)\n"
      ],
      "metadata": {
        "colab": {
          "base_uri": "https://localhost:8080/"
        },
        "id": "hbkfs_eEBGu7",
        "outputId": "f30c2233-b02e-49df-f8e1-d845c64bad8e"
      },
      "execution_count": 17,
      "outputs": [
        {
          "output_type": "stream",
          "name": "stdout",
          "text": [
            "{'N': 'TPV-TROC-F20/2066', 'Code_Client': 'CSC26660', 'N_BC': 'TPV-TROC-C20/3185'}\n"
          ]
        }
      ]
    },
    {
      "cell_type": "code",
      "source": [
        "# result "
      ],
      "metadata": {
        "id": "jsp3T9N9BJd9"
      },
      "execution_count": 18,
      "outputs": []
    }
  ]
}